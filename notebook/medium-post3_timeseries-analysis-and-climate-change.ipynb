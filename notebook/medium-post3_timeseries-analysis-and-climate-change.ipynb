{
  "cells": [
    {
      "cell_type": "markdown",
      "metadata": {
        "id": "KTBgrDfAIE54"
      },
      "source": [
        "# Imports"
      ]
    },
    {
      "cell_type": "code",
      "execution_count": 5,
      "metadata": {
        "id": "pGrKqvpLIE56",
        "outputId": "4ea1f8d2-dffa-4b28-95f5-020310bfc967",
        "colab": {
          "base_uri": "https://localhost:8080/",
          "height": 608
        }
      },
      "outputs": [
        {
          "output_type": "stream",
          "name": "stdout",
          "text": [
            "Requirement already satisfied: chart-studio in /usr/local/lib/python3.10/dist-packages (1.1.0)\n",
            "Requirement already satisfied: plotly in /usr/local/lib/python3.10/dist-packages (from chart-studio) (5.13.1)\n",
            "Requirement already satisfied: requests in /usr/local/lib/python3.10/dist-packages (from chart-studio) (2.27.1)\n",
            "Requirement already satisfied: retrying>=1.3.3 in /usr/local/lib/python3.10/dist-packages (from chart-studio) (1.3.4)\n",
            "Requirement already satisfied: six in /usr/local/lib/python3.10/dist-packages (from chart-studio) (1.16.0)\n",
            "Requirement already satisfied: tenacity>=6.2.0 in /usr/local/lib/python3.10/dist-packages (from plotly->chart-studio) (8.2.2)\n",
            "Requirement already satisfied: urllib3<1.27,>=1.21.1 in /usr/local/lib/python3.10/dist-packages (from requests->chart-studio) (1.26.16)\n",
            "Requirement already satisfied: certifi>=2017.4.17 in /usr/local/lib/python3.10/dist-packages (from requests->chart-studio) (2023.5.7)\n",
            "Requirement already satisfied: charset-normalizer~=2.0.0 in /usr/local/lib/python3.10/dist-packages (from requests->chart-studio) (2.0.12)\n",
            "Requirement already satisfied: idna<4,>=2.5 in /usr/local/lib/python3.10/dist-packages (from requests->chart-studio) (3.4)\n",
            "Requirement already satisfied: prophet in /usr/local/lib/python3.10/dist-packages (1.1.4)\n",
            "Requirement already satisfied: cmdstanpy>=1.0.4 in /usr/local/lib/python3.10/dist-packages (from prophet) (1.1.0)\n",
            "Requirement already satisfied: numpy>=1.15.4 in /usr/local/lib/python3.10/dist-packages (from prophet) (1.22.4)\n",
            "Requirement already satisfied: matplotlib>=2.0.0 in /usr/local/lib/python3.10/dist-packages (from prophet) (3.7.1)\n",
            "Requirement already satisfied: pandas>=1.0.4 in /usr/local/lib/python3.10/dist-packages (from prophet) (1.5.3)\n",
            "Requirement already satisfied: LunarCalendar>=0.0.9 in /usr/local/lib/python3.10/dist-packages (from prophet) (0.0.9)\n",
            "Requirement already satisfied: convertdate>=2.1.2 in /usr/local/lib/python3.10/dist-packages (from prophet) (2.4.0)\n",
            "Requirement already satisfied: holidays>=0.25 in /usr/local/lib/python3.10/dist-packages (from prophet) (0.27.1)\n",
            "Requirement already satisfied: python-dateutil>=2.8.0 in /usr/local/lib/python3.10/dist-packages (from prophet) (2.8.2)\n",
            "Requirement already satisfied: tqdm>=4.36.1 in /usr/local/lib/python3.10/dist-packages (from prophet) (4.65.0)\n",
            "Requirement already satisfied: importlib-resources in /usr/local/lib/python3.10/dist-packages (from prophet) (5.12.0)\n",
            "Requirement already satisfied: pymeeus<=1,>=0.3.13 in /usr/local/lib/python3.10/dist-packages (from convertdate>=2.1.2->prophet) (0.5.12)\n",
            "Requirement already satisfied: ephem>=3.7.5.3 in /usr/local/lib/python3.10/dist-packages (from LunarCalendar>=0.0.9->prophet) (4.1.4)\n",
            "Requirement already satisfied: pytz in /usr/local/lib/python3.10/dist-packages (from LunarCalendar>=0.0.9->prophet) (2022.7.1)\n",
            "Requirement already satisfied: contourpy>=1.0.1 in /usr/local/lib/python3.10/dist-packages (from matplotlib>=2.0.0->prophet) (1.1.0)\n",
            "Requirement already satisfied: cycler>=0.10 in /usr/local/lib/python3.10/dist-packages (from matplotlib>=2.0.0->prophet) (0.11.0)\n",
            "Requirement already satisfied: fonttools>=4.22.0 in /usr/local/lib/python3.10/dist-packages (from matplotlib>=2.0.0->prophet) (4.40.0)\n",
            "Requirement already satisfied: kiwisolver>=1.0.1 in /usr/local/lib/python3.10/dist-packages (from matplotlib>=2.0.0->prophet) (1.4.4)\n",
            "Requirement already satisfied: packaging>=20.0 in /usr/local/lib/python3.10/dist-packages (from matplotlib>=2.0.0->prophet) (23.1)\n",
            "Requirement already satisfied: pillow>=6.2.0 in /usr/local/lib/python3.10/dist-packages (from matplotlib>=2.0.0->prophet) (8.4.0)\n",
            "Requirement already satisfied: pyparsing>=2.3.1 in /usr/local/lib/python3.10/dist-packages (from matplotlib>=2.0.0->prophet) (3.1.0)\n",
            "Requirement already satisfied: six>=1.5 in /usr/local/lib/python3.10/dist-packages (from python-dateutil>=2.8.0->prophet) (1.16.0)\n"
          ]
        },
        {
          "output_type": "display_data",
          "data": {
            "text/html": [
              "        <script type=\"text/javascript\">\n",
              "        window.PlotlyConfig = {MathJaxConfig: 'local'};\n",
              "        if (window.MathJax && window.MathJax.Hub && window.MathJax.Hub.Config) {window.MathJax.Hub.Config({SVG: {font: \"STIX-Web\"}});}\n",
              "        if (typeof require !== 'undefined') {\n",
              "        require.undef(\"plotly\");\n",
              "        requirejs.config({\n",
              "            paths: {\n",
              "                'plotly': ['https://cdn.plot.ly/plotly-2.18.2.min']\n",
              "            }\n",
              "        });\n",
              "        require(['plotly'], function(Plotly) {\n",
              "            window._Plotly = Plotly;\n",
              "        });\n",
              "        }\n",
              "        </script>\n",
              "        "
            ]
          },
          "metadata": {}
        },
        {
          "output_type": "display_data",
          "data": {
            "text/html": [
              "        <script type=\"text/javascript\">\n",
              "        window.PlotlyConfig = {MathJaxConfig: 'local'};\n",
              "        if (window.MathJax && window.MathJax.Hub && window.MathJax.Hub.Config) {window.MathJax.Hub.Config({SVG: {font: \"STIX-Web\"}});}\n",
              "        if (typeof require !== 'undefined') {\n",
              "        require.undef(\"plotly\");\n",
              "        requirejs.config({\n",
              "            paths: {\n",
              "                'plotly': ['https://cdn.plot.ly/plotly-2.18.2.min']\n",
              "            }\n",
              "        });\n",
              "        require(['plotly'], function(Plotly) {\n",
              "            window._Plotly = Plotly;\n",
              "        });\n",
              "        }\n",
              "        </script>\n",
              "        "
            ]
          },
          "metadata": {}
        }
      ],
      "source": [
        "!pip install chart-studio\n",
        "import pandas as pd\n",
        "import numpy as np\n",
        "import calendar\n",
        "from datetime import datetime\n",
        "import matplotlib.pyplot as plt\n",
        "%matplotlib inline\n",
        "!pip install prophet\n",
        "# Facebook's Prophet forecasting library\n",
        "from prophet import Prophet\n",
        "\n",
        "# Standard plotly imports\n",
        "import chart_studio.plotly.plotly as py\n",
        "from plotly import graph_objs as go\n",
        "from plotly.offline import iplot, init_notebook_mode\n",
        "# Using plotly + cufflinks in offline mode\n",
        "import cufflinks\n",
        "cufflinks.go_offline(connected=True)\n",
        "init_notebook_mode(connected=True)"
      ]
    },
    {
      "cell_type": "markdown",
      "metadata": {
        "id": "sj0WD39zIE58"
      },
      "source": [
        "# Pulling the data"
      ]
    },
    {
      "cell_type": "code",
      "execution_count": 6,
      "metadata": {
        "id": "L0aaGXgIIE58",
        "outputId": "0193c6b4-7194-417e-e7d8-8244c0bfdefb",
        "colab": {
          "base_uri": "https://localhost:8080/",
          "height": 362
        }
      },
      "outputs": [
        {
          "output_type": "error",
          "ename": "FileNotFoundError",
          "evalue": "ignored",
          "traceback": [
            "\u001b[0;31m---------------------------------------------------------------------------\u001b[0m",
            "\u001b[0;31mFileNotFoundError\u001b[0m                         Traceback (most recent call last)",
            "\u001b[0;32m<ipython-input-6-ac3c0fc93716>\u001b[0m in \u001b[0;36m<cell line: 2>\u001b[0;34m()\u001b[0m\n\u001b[1;32m      1\u001b[0m \u001b[0;31m# Read in the raw temperature and emissions datasets (they are in CSV format)\u001b[0m\u001b[0;34m\u001b[0m\u001b[0;34m\u001b[0m\u001b[0m\n\u001b[0;32m----> 2\u001b[0;31m \u001b[0mraw_t\u001b[0m \u001b[0;34m=\u001b[0m \u001b[0mpd\u001b[0m\u001b[0;34m.\u001b[0m\u001b[0mread_csv\u001b[0m\u001b[0;34m(\u001b[0m\u001b[0;34m'./GLB.Ts+dSST.csv'\u001b[0m\u001b[0;34m,\u001b[0m \u001b[0mskiprows\u001b[0m\u001b[0;34m=\u001b[0m\u001b[0;36m1\u001b[0m\u001b[0;34m)\u001b[0m\u001b[0;34m\u001b[0m\u001b[0;34m\u001b[0m\u001b[0m\n\u001b[0m\u001b[1;32m      3\u001b[0m \u001b[0mraw_e\u001b[0m \u001b[0;34m=\u001b[0m \u001b[0mpd\u001b[0m\u001b[0;34m.\u001b[0m\u001b[0mread_csv\u001b[0m\u001b[0;34m(\u001b[0m\u001b[0;34m'./API_EN.ATM.CO2E.PC_DS2_en_csv_v2_10515380.csv'\u001b[0m\u001b[0;34m,\u001b[0m \u001b[0mskiprows\u001b[0m\u001b[0;34m=\u001b[0m\u001b[0;36m3\u001b[0m\u001b[0;34m)\u001b[0m\u001b[0;34m\u001b[0m\u001b[0;34m\u001b[0m\u001b[0m\n",
            "\u001b[0;32m/usr/local/lib/python3.10/dist-packages/pandas/util/_decorators.py\u001b[0m in \u001b[0;36mwrapper\u001b[0;34m(*args, **kwargs)\u001b[0m\n\u001b[1;32m    209\u001b[0m                 \u001b[0;32melse\u001b[0m\u001b[0;34m:\u001b[0m\u001b[0;34m\u001b[0m\u001b[0;34m\u001b[0m\u001b[0m\n\u001b[1;32m    210\u001b[0m                     \u001b[0mkwargs\u001b[0m\u001b[0;34m[\u001b[0m\u001b[0mnew_arg_name\u001b[0m\u001b[0;34m]\u001b[0m \u001b[0;34m=\u001b[0m \u001b[0mnew_arg_value\u001b[0m\u001b[0;34m\u001b[0m\u001b[0;34m\u001b[0m\u001b[0m\n\u001b[0;32m--> 211\u001b[0;31m             \u001b[0;32mreturn\u001b[0m \u001b[0mfunc\u001b[0m\u001b[0;34m(\u001b[0m\u001b[0;34m*\u001b[0m\u001b[0margs\u001b[0m\u001b[0;34m,\u001b[0m \u001b[0;34m**\u001b[0m\u001b[0mkwargs\u001b[0m\u001b[0;34m)\u001b[0m\u001b[0;34m\u001b[0m\u001b[0;34m\u001b[0m\u001b[0m\n\u001b[0m\u001b[1;32m    212\u001b[0m \u001b[0;34m\u001b[0m\u001b[0m\n\u001b[1;32m    213\u001b[0m         \u001b[0;32mreturn\u001b[0m \u001b[0mcast\u001b[0m\u001b[0;34m(\u001b[0m\u001b[0mF\u001b[0m\u001b[0;34m,\u001b[0m \u001b[0mwrapper\u001b[0m\u001b[0;34m)\u001b[0m\u001b[0;34m\u001b[0m\u001b[0;34m\u001b[0m\u001b[0m\n",
            "\u001b[0;32m/usr/local/lib/python3.10/dist-packages/pandas/util/_decorators.py\u001b[0m in \u001b[0;36mwrapper\u001b[0;34m(*args, **kwargs)\u001b[0m\n\u001b[1;32m    329\u001b[0m                     \u001b[0mstacklevel\u001b[0m\u001b[0;34m=\u001b[0m\u001b[0mfind_stack_level\u001b[0m\u001b[0;34m(\u001b[0m\u001b[0;34m)\u001b[0m\u001b[0;34m,\u001b[0m\u001b[0;34m\u001b[0m\u001b[0;34m\u001b[0m\u001b[0m\n\u001b[1;32m    330\u001b[0m                 )\n\u001b[0;32m--> 331\u001b[0;31m             \u001b[0;32mreturn\u001b[0m \u001b[0mfunc\u001b[0m\u001b[0;34m(\u001b[0m\u001b[0;34m*\u001b[0m\u001b[0margs\u001b[0m\u001b[0;34m,\u001b[0m \u001b[0;34m**\u001b[0m\u001b[0mkwargs\u001b[0m\u001b[0;34m)\u001b[0m\u001b[0;34m\u001b[0m\u001b[0;34m\u001b[0m\u001b[0m\n\u001b[0m\u001b[1;32m    332\u001b[0m \u001b[0;34m\u001b[0m\u001b[0m\n\u001b[1;32m    333\u001b[0m         \u001b[0;31m# error: \"Callable[[VarArg(Any), KwArg(Any)], Any]\" has no\u001b[0m\u001b[0;34m\u001b[0m\u001b[0;34m\u001b[0m\u001b[0m\n",
            "\u001b[0;32m/usr/local/lib/python3.10/dist-packages/pandas/io/parsers/readers.py\u001b[0m in \u001b[0;36mread_csv\u001b[0;34m(filepath_or_buffer, sep, delimiter, header, names, index_col, usecols, squeeze, prefix, mangle_dupe_cols, dtype, engine, converters, true_values, false_values, skipinitialspace, skiprows, skipfooter, nrows, na_values, keep_default_na, na_filter, verbose, skip_blank_lines, parse_dates, infer_datetime_format, keep_date_col, date_parser, dayfirst, cache_dates, iterator, chunksize, compression, thousands, decimal, lineterminator, quotechar, quoting, doublequote, escapechar, comment, encoding, encoding_errors, dialect, error_bad_lines, warn_bad_lines, on_bad_lines, delim_whitespace, low_memory, memory_map, float_precision, storage_options)\u001b[0m\n\u001b[1;32m    948\u001b[0m     \u001b[0mkwds\u001b[0m\u001b[0;34m.\u001b[0m\u001b[0mupdate\u001b[0m\u001b[0;34m(\u001b[0m\u001b[0mkwds_defaults\u001b[0m\u001b[0;34m)\u001b[0m\u001b[0;34m\u001b[0m\u001b[0;34m\u001b[0m\u001b[0m\n\u001b[1;32m    949\u001b[0m \u001b[0;34m\u001b[0m\u001b[0m\n\u001b[0;32m--> 950\u001b[0;31m     \u001b[0;32mreturn\u001b[0m \u001b[0m_read\u001b[0m\u001b[0;34m(\u001b[0m\u001b[0mfilepath_or_buffer\u001b[0m\u001b[0;34m,\u001b[0m \u001b[0mkwds\u001b[0m\u001b[0;34m)\u001b[0m\u001b[0;34m\u001b[0m\u001b[0;34m\u001b[0m\u001b[0m\n\u001b[0m\u001b[1;32m    951\u001b[0m \u001b[0;34m\u001b[0m\u001b[0m\n\u001b[1;32m    952\u001b[0m \u001b[0;34m\u001b[0m\u001b[0m\n",
            "\u001b[0;32m/usr/local/lib/python3.10/dist-packages/pandas/io/parsers/readers.py\u001b[0m in \u001b[0;36m_read\u001b[0;34m(filepath_or_buffer, kwds)\u001b[0m\n\u001b[1;32m    603\u001b[0m \u001b[0;34m\u001b[0m\u001b[0m\n\u001b[1;32m    604\u001b[0m     \u001b[0;31m# Create the parser.\u001b[0m\u001b[0;34m\u001b[0m\u001b[0;34m\u001b[0m\u001b[0m\n\u001b[0;32m--> 605\u001b[0;31m     \u001b[0mparser\u001b[0m \u001b[0;34m=\u001b[0m \u001b[0mTextFileReader\u001b[0m\u001b[0;34m(\u001b[0m\u001b[0mfilepath_or_buffer\u001b[0m\u001b[0;34m,\u001b[0m \u001b[0;34m**\u001b[0m\u001b[0mkwds\u001b[0m\u001b[0;34m)\u001b[0m\u001b[0;34m\u001b[0m\u001b[0;34m\u001b[0m\u001b[0m\n\u001b[0m\u001b[1;32m    606\u001b[0m \u001b[0;34m\u001b[0m\u001b[0m\n\u001b[1;32m    607\u001b[0m     \u001b[0;32mif\u001b[0m \u001b[0mchunksize\u001b[0m \u001b[0;32mor\u001b[0m \u001b[0miterator\u001b[0m\u001b[0;34m:\u001b[0m\u001b[0;34m\u001b[0m\u001b[0;34m\u001b[0m\u001b[0m\n",
            "\u001b[0;32m/usr/local/lib/python3.10/dist-packages/pandas/io/parsers/readers.py\u001b[0m in \u001b[0;36m__init__\u001b[0;34m(self, f, engine, **kwds)\u001b[0m\n\u001b[1;32m   1440\u001b[0m \u001b[0;34m\u001b[0m\u001b[0m\n\u001b[1;32m   1441\u001b[0m         \u001b[0mself\u001b[0m\u001b[0;34m.\u001b[0m\u001b[0mhandles\u001b[0m\u001b[0;34m:\u001b[0m \u001b[0mIOHandles\u001b[0m \u001b[0;34m|\u001b[0m \u001b[0;32mNone\u001b[0m \u001b[0;34m=\u001b[0m \u001b[0;32mNone\u001b[0m\u001b[0;34m\u001b[0m\u001b[0;34m\u001b[0m\u001b[0m\n\u001b[0;32m-> 1442\u001b[0;31m         \u001b[0mself\u001b[0m\u001b[0;34m.\u001b[0m\u001b[0m_engine\u001b[0m \u001b[0;34m=\u001b[0m \u001b[0mself\u001b[0m\u001b[0;34m.\u001b[0m\u001b[0m_make_engine\u001b[0m\u001b[0;34m(\u001b[0m\u001b[0mf\u001b[0m\u001b[0;34m,\u001b[0m \u001b[0mself\u001b[0m\u001b[0;34m.\u001b[0m\u001b[0mengine\u001b[0m\u001b[0;34m)\u001b[0m\u001b[0;34m\u001b[0m\u001b[0;34m\u001b[0m\u001b[0m\n\u001b[0m\u001b[1;32m   1443\u001b[0m \u001b[0;34m\u001b[0m\u001b[0m\n\u001b[1;32m   1444\u001b[0m     \u001b[0;32mdef\u001b[0m \u001b[0mclose\u001b[0m\u001b[0;34m(\u001b[0m\u001b[0mself\u001b[0m\u001b[0;34m)\u001b[0m \u001b[0;34m->\u001b[0m \u001b[0;32mNone\u001b[0m\u001b[0;34m:\u001b[0m\u001b[0;34m\u001b[0m\u001b[0;34m\u001b[0m\u001b[0m\n",
            "\u001b[0;32m/usr/local/lib/python3.10/dist-packages/pandas/io/parsers/readers.py\u001b[0m in \u001b[0;36m_make_engine\u001b[0;34m(self, f, engine)\u001b[0m\n\u001b[1;32m   1733\u001b[0m                 \u001b[0;32mif\u001b[0m \u001b[0;34m\"b\"\u001b[0m \u001b[0;32mnot\u001b[0m \u001b[0;32min\u001b[0m \u001b[0mmode\u001b[0m\u001b[0;34m:\u001b[0m\u001b[0;34m\u001b[0m\u001b[0;34m\u001b[0m\u001b[0m\n\u001b[1;32m   1734\u001b[0m                     \u001b[0mmode\u001b[0m \u001b[0;34m+=\u001b[0m \u001b[0;34m\"b\"\u001b[0m\u001b[0;34m\u001b[0m\u001b[0;34m\u001b[0m\u001b[0m\n\u001b[0;32m-> 1735\u001b[0;31m             self.handles = get_handle(\n\u001b[0m\u001b[1;32m   1736\u001b[0m                 \u001b[0mf\u001b[0m\u001b[0;34m,\u001b[0m\u001b[0;34m\u001b[0m\u001b[0;34m\u001b[0m\u001b[0m\n\u001b[1;32m   1737\u001b[0m                 \u001b[0mmode\u001b[0m\u001b[0;34m,\u001b[0m\u001b[0;34m\u001b[0m\u001b[0;34m\u001b[0m\u001b[0m\n",
            "\u001b[0;32m/usr/local/lib/python3.10/dist-packages/pandas/io/common.py\u001b[0m in \u001b[0;36mget_handle\u001b[0;34m(path_or_buf, mode, encoding, compression, memory_map, is_text, errors, storage_options)\u001b[0m\n\u001b[1;32m    854\u001b[0m         \u001b[0;32mif\u001b[0m \u001b[0mioargs\u001b[0m\u001b[0;34m.\u001b[0m\u001b[0mencoding\u001b[0m \u001b[0;32mand\u001b[0m \u001b[0;34m\"b\"\u001b[0m \u001b[0;32mnot\u001b[0m \u001b[0;32min\u001b[0m \u001b[0mioargs\u001b[0m\u001b[0;34m.\u001b[0m\u001b[0mmode\u001b[0m\u001b[0;34m:\u001b[0m\u001b[0;34m\u001b[0m\u001b[0;34m\u001b[0m\u001b[0m\n\u001b[1;32m    855\u001b[0m             \u001b[0;31m# Encoding\u001b[0m\u001b[0;34m\u001b[0m\u001b[0;34m\u001b[0m\u001b[0m\n\u001b[0;32m--> 856\u001b[0;31m             handle = open(\n\u001b[0m\u001b[1;32m    857\u001b[0m                 \u001b[0mhandle\u001b[0m\u001b[0;34m,\u001b[0m\u001b[0;34m\u001b[0m\u001b[0;34m\u001b[0m\u001b[0m\n\u001b[1;32m    858\u001b[0m                 \u001b[0mioargs\u001b[0m\u001b[0;34m.\u001b[0m\u001b[0mmode\u001b[0m\u001b[0;34m,\u001b[0m\u001b[0;34m\u001b[0m\u001b[0;34m\u001b[0m\u001b[0m\n",
            "\u001b[0;31mFileNotFoundError\u001b[0m: [Errno 2] No such file or directory: './GLB.Ts+dSST.csv'"
          ]
        }
      ],
      "source": [
        "# Read in the raw temperature and emissions datasets (they are in CSV format)\n",
        "raw_t = pd.read_csv('./GLB.Ts+dSST.csv', skiprows=1)\n",
        "raw_e = pd.read_csv('./API_EN.ATM.CO2E.PC_DS2_en_csv_v2_10515380.csv', skiprows=3)"
      ]
    },
    {
      "cell_type": "code",
      "execution_count": null,
      "metadata": {
        "id": "oWqXFcqJIE59"
      },
      "outputs": [],
      "source": [
        "# Investigate how the raw data looks\n",
        "raw_t.head()"
      ]
    },
    {
      "cell_type": "code",
      "execution_count": null,
      "metadata": {
        "id": "RgLUfk3JIE59"
      },
      "outputs": [],
      "source": [
        "raw_e.head()"
      ]
    },
    {
      "cell_type": "markdown",
      "metadata": {
        "id": "q-l_LHKbIE59"
      },
      "source": [
        "# Wrangling Time Series Data"
      ]
    },
    {
      "cell_type": "markdown",
      "metadata": {
        "id": "Y3zEUQoCIE5-"
      },
      "source": [
        "## Wrangling Temperature"
      ]
    },
    {
      "cell_type": "code",
      "execution_count": null,
      "metadata": {
        "id": "RqRFeKHdIE5-"
      },
      "outputs": [],
      "source": [
        "# Create new dataframe with an index for each month\n",
        "# First create the date range\n",
        "date_rng = pd.date_range(start='1/1/1880', end='1/03/2019', freq='M')\n",
        "\n",
        "type(date_rng[0])\n",
        "### returns\n",
        "### pandas._libs.tslibs.timestamps.Timestamp\n",
        "\n",
        "# Next create the empty DataFrame, which we will populate using the actual data\n",
        "t = pd.DataFrame(date_rng, columns=['date'])\n",
        "\n",
        "# Create a column for the anomoly values\n",
        "t['Avg_Anomaly_deg_C'] = None\n",
        "\n",
        "# Set the index of the DataFrame to the date column (DateTime index)\n",
        "t.set_index('date', inplace=True)\n",
        "\n",
        "# Show the first few elements\n",
        "t.head()"
      ]
    },
    {
      "cell_type": "code",
      "execution_count": null,
      "metadata": {
        "id": "FAxwxuVEIE5-"
      },
      "outputs": [],
      "source": [
        "# We only want the monthly data, lets only select that and leave out the seasonal columns\n",
        "raw_t = raw_t.iloc[:,:13]\n",
        "raw_t.head()"
      ]
    },
    {
      "cell_type": "code",
      "execution_count": null,
      "metadata": {
        "id": "TV7huM3nIE5_"
      },
      "outputs": [],
      "source": [
        "# Import relevant libraries\n",
        "import calendar\n",
        "from datetime import datetime\n",
        "\n",
        "# Function definition\n",
        "def populate_df_with_anomolies_from_row(row):\n",
        "    year = row['Year']\n",
        "    # Anomaly values (they seem to be a mixture of strings and floats)\n",
        "    monthly_anomolies = row.iloc[1:]\n",
        "    # Abbreviated month names (index names)\n",
        "    months = monthly_anomolies.index\n",
        "    for month in monthly_anomolies.index:\n",
        "        # Get the last day for each month\n",
        "        last_day = calendar.monthrange(year,datetime.strptime(month, '%b').month)[1]\n",
        "        # construct the index with which we can reference our new DataFrame (to populate)\n",
        "        date_index = datetime.strptime(f'{year} {month} {last_day}', '%Y %b %d')\n",
        "        # Populate / set value @ above index, to anomaly value\n",
        "        t.loc[date_index] = monthly_anomolies[month]\n",
        "\n",
        "# Apply function to each row of raw data\n",
        "_ = raw_t.apply(lambda row: populate_df_with_anomolies_from_row(row), axis=1)\n",
        "\n",
        "# Show the first few elements of our newly populated DataFrame\n",
        "t.head()"
      ]
    },
    {
      "cell_type": "code",
      "execution_count": null,
      "metadata": {
        "id": "pVYcDrW4IE5_"
      },
      "outputs": [],
      "source": [
        "# Import Numpy, as library meant for large arrays - we will use it that we\n",
        "import numpy as np\n",
        "\n",
        "# Define function to convert values to floats, and return a 'NaN = Not a Number' if this is not possible\n",
        "def clean_anomaly_value(raw_value):\n",
        "    try:\n",
        "        return float(raw_value)\n",
        "    except:\n",
        "        return np.NaN\n",
        "\n",
        "# Apply above function to all anomaly values in DataFrame\n",
        "t['Avg_Anomaly_deg_C'] = t['Avg_Anomaly_deg_C'].apply(lambda raw_value: clean_anomaly_value(raw_value))\n",
        "\n",
        "# 'Forward fill' to take care of NaN values\n",
        "t.fillna(method='ffill', inplace=True)\n",
        "\n",
        "# Show the first few elements of our newly cleaned DataFrame\n",
        "t.head()"
      ]
    },
    {
      "cell_type": "code",
      "execution_count": null,
      "metadata": {
        "id": "7OjtePuuIE6A"
      },
      "outputs": [],
      "source": [
        "# Plot the data - quick and easy - using matplotlib, we will draw prettier graphs later\n",
        "\n",
        "# Import Matplotlib\n",
        "import matplotlib.pyplot as plt\n",
        "# Allow for rendering within notebook\n",
        "%matplotlib inline\n",
        "\n",
        "# Create figure, title and plot data\n",
        "plt.figure(figsize=(10,8))\n",
        "plt.xlabel('Time')\n",
        "plt.ylabel('Temperature Anomaly (°Celsius)')\n",
        "plt.plot(t, color='#1C7C54', linewidth=1.0)"
      ]
    },
    {
      "cell_type": "code",
      "execution_count": null,
      "metadata": {
        "id": "hp2B1Kw1IE6A"
      },
      "outputs": [],
      "source": [
        "# The data can be resampled to a different frequency,\n",
        "# lets resample it to years (end-of-year):\n",
        "t.resample('A').mean().head()"
      ]
    },
    {
      "cell_type": "code",
      "execution_count": null,
      "metadata": {
        "id": "q_5DWM5wIE6B"
      },
      "outputs": [],
      "source": [
        "# Now lets visualize our resampled DataFrame\n",
        "\n",
        "# Import Matplotlib\n",
        "import matplotlib.pyplot as plt\n",
        "# Allow for rendering within notebook\n",
        "%matplotlib inline\n",
        "# Create figure, title and plot resampled data\n",
        "plt.figure(figsize=(10,8))\n",
        "plt.xlabel('Time')\n",
        "plt.ylabel('Temperature Anomaly (°Celsius)')\n",
        "plt.plot(t.resample('A').mean(), color='#1C7C54', linewidth=1.0)"
      ]
    },
    {
      "cell_type": "markdown",
      "metadata": {
        "id": "1QC-_K92IE6B"
      },
      "source": [
        "## Wrangling Emissions"
      ]
    },
    {
      "cell_type": "code",
      "execution_count": null,
      "metadata": {
        "id": "60_53t_BIE6B"
      },
      "outputs": [],
      "source": [
        "# Define function to pull value from raw data, using DateIndex from new DataFrame row\n",
        "def populate_df(row):\n",
        "    index = str(row['date'].year)\n",
        "    value = raw_e_world.loc[index]\n",
        "    return value\n",
        "\n",
        "# Select just the co2 emissions for the 'world', and the columns for the years 1960-2018\n",
        "raw_e_world = raw_e[raw_e['Country Name']=='World'].loc[:,'1960':'2018']\n",
        "\n",
        "# 'Traspose' the resulting slice, making the columns become rows and vice versa\n",
        "raw_e_world = raw_e_world.T\n",
        "raw_e_world.columns = ['value']\n",
        "\n",
        "# Create a new DataFrame with a daterange the same the range for..\n",
        "# the Temperature data (after resampling to years)\n",
        "date_rng = pd.date_range(start='31/12/1960', end='31/12/2018', freq='y')\n",
        "e = pd.DataFrame(date_rng, columns=['date'])\n",
        "\n",
        "# Populate the new DataFrame using the values from the raw data slice\n",
        "v = e.apply(lambda row: populate_df(row), axis=1)\n",
        "e['Global CO2 Emissions per Capita'] = v\n",
        "e.set_index('date', inplace=True)\n",
        "e.head()"
      ]
    },
    {
      "cell_type": "code",
      "execution_count": null,
      "metadata": {
        "id": "704Js36YIE6C"
      },
      "outputs": [],
      "source": [
        "# Illustrate how the above DataFrame can be filtered for values after 2011\n",
        "e[e.index.year>2011]"
      ]
    },
    {
      "cell_type": "code",
      "execution_count": null,
      "metadata": {
        "id": "8bzB1dzgIE6C"
      },
      "outputs": [],
      "source": [
        "# Deal with the NaNs by 'forward filling'\n",
        "e.fillna(method='ffill', inplace=True)"
      ]
    },
    {
      "cell_type": "code",
      "execution_count": null,
      "metadata": {
        "id": "SNtPEUp_IE6C"
      },
      "outputs": [],
      "source": [
        "# Check that there are no longer NaNs at the end\n",
        "e[e.index.year>2011]"
      ]
    },
    {
      "cell_type": "code",
      "execution_count": null,
      "metadata": {
        "id": "UTJgl4__IE6C"
      },
      "outputs": [],
      "source": [
        "e['1984-01-04':'1990-01-06']"
      ]
    },
    {
      "cell_type": "markdown",
      "metadata": {
        "id": "F76LZrMKIE6D"
      },
      "source": [
        "# Final DataFrames"
      ]
    },
    {
      "cell_type": "code",
      "execution_count": null,
      "metadata": {
        "id": "XrXLzO_HIE6D"
      },
      "outputs": [],
      "source": [
        "# Temperature anomalies\n",
        "t.head()"
      ]
    },
    {
      "cell_type": "code",
      "execution_count": null,
      "metadata": {
        "id": "Ti7AmEwCIE6D"
      },
      "outputs": [],
      "source": [
        "# Temperature anomalies resampled to end-of-year\n",
        "t.resample('A').mean().head()"
      ]
    },
    {
      "cell_type": "code",
      "execution_count": null,
      "metadata": {
        "id": "kXS9hGGhIE6D"
      },
      "outputs": [],
      "source": [
        "# CO2 emissions\n",
        "e.head()"
      ]
    },
    {
      "cell_type": "markdown",
      "metadata": {
        "id": "RQxZ5B4wIE6E"
      },
      "source": [
        "# Visualizing Time Series Data"
      ]
    },
    {
      "cell_type": "markdown",
      "metadata": {
        "id": "ChRkfEyoIE6E"
      },
      "source": [
        "## Plotting Temperature with Matplotlib"
      ]
    },
    {
      "cell_type": "code",
      "execution_count": null,
      "metadata": {
        "id": "Xk62-jrhIE6E"
      },
      "outputs": [],
      "source": [
        "# import Matplotlib\n",
        "import matplotlib.pyplot as plt\n",
        "# Allow for graphs to be displayed in Jupyter notebook\n",
        "%matplotlib inline\n",
        "\n",
        "# Resample or temperature data to years (end-of-year)\n",
        "t_resampled = t.resample('A').mean()\n",
        "\n",
        "# Create figures and axes\n",
        "fig, ax = plt.subplots(figsize=(10,8))\n",
        "\n",
        "# Plot temperature data with specific colour and line thickness\n",
        "ax.plot(t_resampled, color='#1C7C54', linewidth=2.5)\n",
        "\n",
        "# Set axis labels and graph title\n",
        "ax.set(xlabel='Time (years)', ylabel='Temperature Anomaly (deg. Celsius)',\n",
        "       title='Global Temperature Anomalies')\n",
        "\n",
        "# Enable grid\n",
        "ax.grid()\n"
      ]
    },
    {
      "cell_type": "markdown",
      "metadata": {
        "id": "w6DsMZiBIE6F"
      },
      "source": [
        "## Plotting Emissions with Matplotlib"
      ]
    },
    {
      "cell_type": "code",
      "execution_count": null,
      "metadata": {
        "id": "N2b_bJvMIE6F"
      },
      "outputs": [],
      "source": [
        "# import Matplotlib\n",
        "import matplotlib.pyplot as plt\n",
        "# Allow for graphs to be displayed in Jupyter notebook\n",
        "%matplotlib inline\n",
        "\n",
        "# Create figures and axes\n",
        "fig, ax = plt.subplots(figsize=(10,8))\n",
        "\n",
        "# Plot co2 emissions data with specific colour and line thickness\n",
        "ax.plot(e, color='#3393FF', linewidth=2.5)\n",
        "\n",
        "# Set axis labels and graph title\n",
        "ax.set(xlabel='Time (years)', ylabel='Emissions (Metric Tons per Capita)',\n",
        "       title='Global CO2 Emission over Time')\n",
        "\n",
        "# Enable grid\n",
        "ax.grid()"
      ]
    },
    {
      "cell_type": "markdown",
      "metadata": {
        "id": "yw5V4qGQIE6G"
      },
      "source": [
        "## Plotting Temperature with Plotly"
      ]
    },
    {
      "cell_type": "code",
      "execution_count": null,
      "metadata": {
        "id": "9UL7w6iIIE6G"
      },
      "outputs": [],
      "source": [
        "# Standard plotly imports\n",
        "import plotly.plotly as py\n",
        "import plotly.graph_objs as go\n",
        "from plotly.offline import iplot, init_notebook_mode\n",
        "# Using plotly + cufflinks in offline mode\n",
        "import cufflinks\n",
        "cufflinks.go_offline(connected=True)\n",
        "init_notebook_mode(connected=True)"
      ]
    },
    {
      "cell_type": "code",
      "execution_count": null,
      "metadata": {
        "id": "18o3MgP5IE6G"
      },
      "outputs": [],
      "source": [
        "t.resample('A').mean().iplot(kind='line', xTitle='Time (years)', color='#1C7C54',\n",
        "                  yTitle='Temperature Anomaly (deg. Celsius)', title='Global Temperature Anomalies')"
      ]
    },
    {
      "cell_type": "markdown",
      "metadata": {
        "id": "dSeR45oWIE6G"
      },
      "source": [
        "## Plotting Emissions with Plotly"
      ]
    },
    {
      "cell_type": "code",
      "execution_count": null,
      "metadata": {
        "id": "exs7T6QvIE6H"
      },
      "outputs": [],
      "source": [
        "e.iplot(kind='line', xTitle='Time (years)', color='#3393FF',\n",
        "                  yTitle='Emissions (Metric Tons per Capita)', title='Global CO2 Emission over Time')"
      ]
    },
    {
      "cell_type": "markdown",
      "metadata": {
        "id": "gX45lhQ8IE6H"
      },
      "source": [
        "# Timeseries Correlation"
      ]
    },
    {
      "cell_type": "markdown",
      "metadata": {
        "id": "--ensXw8IE6H"
      },
      "source": [
        "## Granger Causality"
      ]
    },
    {
      "cell_type": "markdown",
      "metadata": {
        "id": "G6c5SK29IE6H"
      },
      "source": [
        "## Dynamic Time Warping"
      ]
    },
    {
      "cell_type": "code",
      "execution_count": null,
      "metadata": {
        "id": "U1-1_VxuIE6H"
      },
      "outputs": [],
      "source": [
        "# The above will be available in another post soon! The post will also use these same two time series."
      ]
    },
    {
      "cell_type": "markdown",
      "metadata": {
        "id": "uaEHpoKEIE6P"
      },
      "source": [
        "# Time Series Modelling and Forecasting"
      ]
    },
    {
      "cell_type": "markdown",
      "metadata": {
        "id": "ZqpkVBilIE6Q"
      },
      "source": [
        "## Facebook Prophet"
      ]
    },
    {
      "cell_type": "code",
      "execution_count": null,
      "metadata": {
        "id": "fKNiPpp0IE6Q"
      },
      "outputs": [],
      "source": [
        "t_prophet = pd.DataFrame()\n",
        "t_prophet['ds'] = t.index\n",
        "t_prophet['y'] = t['Avg_Anomaly_deg_C'].values"
      ]
    },
    {
      "cell_type": "code",
      "execution_count": null,
      "metadata": {
        "id": "dpYyrvZvIE6Q"
      },
      "outputs": [],
      "source": [
        "m = Prophet()\n",
        "m.fit(t_prophet)"
      ]
    },
    {
      "cell_type": "code",
      "execution_count": null,
      "metadata": {
        "id": "dAeYoJZNIE6R"
      },
      "outputs": [],
      "source": [
        "# Make future dataframes\n",
        "future = m.make_future_dataframe(freq='m', periods=100*12)\n",
        "forecast = m.predict(future)"
      ]
    },
    {
      "cell_type": "code",
      "execution_count": null,
      "metadata": {
        "id": "3QxWW0W4IE6R"
      },
      "outputs": [],
      "source": [
        "m.plot(forecast);"
      ]
    },
    {
      "cell_type": "code",
      "execution_count": null,
      "metadata": {
        "id": "DZAIhxbSIE6R"
      },
      "outputs": [],
      "source": [
        "m.plot_components(forecast);"
      ]
    },
    {
      "cell_type": "markdown",
      "metadata": {
        "id": "xCrvFP_FIE6R"
      },
      "source": [
        "## Autoregressive Integrated Moving Average (ARIMA)"
      ]
    },
    {
      "cell_type": "code",
      "execution_count": null,
      "metadata": {
        "id": "4PHcGof6IE6S"
      },
      "outputs": [],
      "source": [
        "# This will also be available in a future post"
      ]
    },
    {
      "cell_type": "markdown",
      "metadata": {
        "id": "aeoDxtsLIE6S"
      },
      "source": [
        "# THE END"
      ]
    }
  ],
  "metadata": {
    "kernelspec": {
      "display_name": "Python 3",
      "language": "python",
      "name": "python3"
    },
    "language_info": {
      "codemirror_mode": {
        "name": "ipython",
        "version": 3
      },
      "file_extension": ".py",
      "mimetype": "text/x-python",
      "name": "python",
      "nbconvert_exporter": "python",
      "pygments_lexer": "ipython3",
      "version": "3.6.8"
    },
    "colab": {
      "provenance": []
    }
  },
  "nbformat": 4,
  "nbformat_minor": 0
}